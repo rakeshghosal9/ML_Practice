{
  "nbformat": 4,
  "nbformat_minor": 0,
  "metadata": {
    "colab": {
      "provenance": [],
      "authorship_tag": "ABX9TyM5u8PFEucrHY/7GIc2MXvd",
      "include_colab_link": true
    },
    "kernelspec": {
      "name": "python3",
      "display_name": "Python 3"
    },
    "language_info": {
      "name": "python"
    }
  },
  "cells": [
    {
      "cell_type": "markdown",
      "metadata": {
        "id": "view-in-github",
        "colab_type": "text"
      },
      "source": [
        "<a href=\"https://colab.research.google.com/github/rakeshghosal9/ML_Practice/blob/main/LeNet_Architecture.ipynb\" target=\"_parent\"><img src=\"https://colab.research.google.com/assets/colab-badge.svg\" alt=\"Open In Colab\"/></a>"
      ]
    },
    {
      "cell_type": "code",
      "execution_count": 1,
      "metadata": {
        "id": "r9Sxb-k6nsBZ"
      },
      "outputs": [],
      "source": [
        "import keras"
      ]
    },
    {
      "cell_type": "code",
      "source": [
        "from keras.datasets import mnist\n",
        "from keras.layers import Conv2D, MaxPooling2D, Dense, Flatten\n",
        "from keras.models import Sequential"
      ],
      "metadata": {
        "id": "ukanygevn3uY"
      },
      "execution_count": 2,
      "outputs": []
    },
    {
      "cell_type": "code",
      "source": [
        "#Loading the dataset and perform splitting\n",
        "(x_train, y_train), (x_test, y_test) = mnist.load_data()"
      ],
      "metadata": {
        "colab": {
          "base_uri": "https://localhost:8080/"
        },
        "id": "6kgLkhnooWcA",
        "outputId": "02f65043-1f19-4d77-8ceb-ff53213154d9"
      },
      "execution_count": 3,
      "outputs": [
        {
          "output_type": "stream",
          "name": "stdout",
          "text": [
            "Downloading data from https://storage.googleapis.com/tensorflow/tf-keras-datasets/mnist.npz\n",
            "11490434/11490434 [==============================] - 0s 0us/step\n"
          ]
        }
      ]
    },
    {
      "cell_type": "code",
      "source": [
        "#performing reshaping operarion\n",
        "x_train = x_train.reshape(x_train.shape[0], 28, 28, 1)\n",
        "x_test = x_test.reshape(x_test.shape[0], 28, 28, 1)"
      ],
      "metadata": {
        "id": "GkRhDl3ToiXF"
      },
      "execution_count": 5,
      "outputs": []
    },
    {
      "cell_type": "code",
      "source": [
        "#Normalization\n",
        "x_train = x_train / 255\n",
        "x_test = x_test / 255"
      ],
      "metadata": {
        "id": "PFfuGKxpovrG"
      },
      "execution_count": 6,
      "outputs": []
    },
    {
      "cell_type": "code",
      "source": [
        "x_train[0].shape"
      ],
      "metadata": {
        "colab": {
          "base_uri": "https://localhost:8080/"
        },
        "id": "SE97LRQupoco",
        "outputId": "19e73593-a1cd-4fb0-a959-4afa74042e46"
      },
      "execution_count": 13,
      "outputs": [
        {
          "output_type": "execute_result",
          "data": {
            "text/plain": [
              "(28, 28, 1)"
            ]
          },
          "metadata": {},
          "execution_count": 13
        }
      ]
    },
    {
      "cell_type": "code",
      "source": [
        "# One Hot Encoding\n",
        "y_train = keras.utils.to_categorical(y_train, 10)\n",
        "y_test = keras.utils.to_categorical(y_test, 10)"
      ],
      "metadata": {
        "id": "NQ466mBzo7T3"
      },
      "execution_count": 10,
      "outputs": []
    },
    {
      "cell_type": "code",
      "source": [
        "y_train[0]"
      ],
      "metadata": {
        "colab": {
          "base_uri": "https://localhost:8080/"
        },
        "id": "63FTAdUPo-iX",
        "outputId": "4030c853-4b25-4df0-c433-07d2ec573e30"
      },
      "execution_count": 12,
      "outputs": [
        {
          "output_type": "execute_result",
          "data": {
            "text/plain": [
              "array([0., 0., 0., 0., 0., 1., 0., 0., 0., 0.], dtype=float32)"
            ]
          },
          "metadata": {},
          "execution_count": 12
        }
      ]
    },
    {
      "cell_type": "code",
      "source": [
        "#building the mode architecture\n",
        "model = Sequential()\n",
        "model.add(Conv2D(6,kernel_size=(5,5),activation='relu',input_shape=(28,28,1)))\n",
        "model.add(MaxPooling2D(pool_size=(2,2)))\n",
        "model.add(Conv2D(16,kernel_size=(5,5),activation='relu'))\n",
        "model.add(MaxPooling2D(pool_size=(2,2)))\n",
        "model.add(Flatten())\n",
        "model.add(Dense(120,activation='relu'))\n",
        "model.add(Dense(84,activation='relu'))\n",
        "model.add(Dense(10,activation='softmax'))\n"
      ],
      "metadata": {
        "id": "K9U5X0RYpVPW"
      },
      "execution_count": 14,
      "outputs": []
    },
    {
      "cell_type": "code",
      "source": [
        "model.compile(loss='categorical_crossentropy',optimizer='adam',metrics=['accuracy'])"
      ],
      "metadata": {
        "id": "63g0wxBRqx0T"
      },
      "execution_count": 15,
      "outputs": []
    },
    {
      "cell_type": "code",
      "source": [
        "model.fit(x_train,y_train,batch_size=128,epochs=20,validation_data=(x_test,y_test))"
      ],
      "metadata": {
        "colab": {
          "base_uri": "https://localhost:8080/"
        },
        "id": "f6lwnFSLq6kb",
        "outputId": "7a9fab9e-247f-44f5-a0f8-fd8e41ae2bc8"
      },
      "execution_count": 17,
      "outputs": [
        {
          "output_type": "stream",
          "name": "stdout",
          "text": [
            "Epoch 1/20\n",
            "469/469 [==============================] - 23s 47ms/step - loss: 0.3713 - accuracy: 0.8884 - val_loss: 0.1178 - val_accuracy: 0.9637\n",
            "Epoch 2/20\n",
            "469/469 [==============================] - 23s 49ms/step - loss: 0.0974 - accuracy: 0.9693 - val_loss: 0.0821 - val_accuracy: 0.9737\n",
            "Epoch 3/20\n",
            "469/469 [==============================] - 19s 41ms/step - loss: 0.0672 - accuracy: 0.9797 - val_loss: 0.0461 - val_accuracy: 0.9848\n",
            "Epoch 4/20\n",
            "469/469 [==============================] - 21s 44ms/step - loss: 0.0528 - accuracy: 0.9832 - val_loss: 0.0475 - val_accuracy: 0.9850\n",
            "Epoch 5/20\n",
            "469/469 [==============================] - 19s 41ms/step - loss: 0.0436 - accuracy: 0.9861 - val_loss: 0.0359 - val_accuracy: 0.9874\n",
            "Epoch 6/20\n",
            "469/469 [==============================] - 21s 44ms/step - loss: 0.0366 - accuracy: 0.9880 - val_loss: 0.0368 - val_accuracy: 0.9874\n",
            "Epoch 7/20\n",
            "469/469 [==============================] - 19s 41ms/step - loss: 0.0326 - accuracy: 0.9893 - val_loss: 0.0429 - val_accuracy: 0.9854\n",
            "Epoch 8/20\n",
            "469/469 [==============================] - 21s 44ms/step - loss: 0.0260 - accuracy: 0.9916 - val_loss: 0.0338 - val_accuracy: 0.9895\n",
            "Epoch 9/20\n",
            "469/469 [==============================] - 20s 42ms/step - loss: 0.0224 - accuracy: 0.9926 - val_loss: 0.0338 - val_accuracy: 0.9900\n",
            "Epoch 10/20\n",
            "469/469 [==============================] - 21s 44ms/step - loss: 0.0210 - accuracy: 0.9928 - val_loss: 0.0397 - val_accuracy: 0.9875\n",
            "Epoch 11/20\n",
            "469/469 [==============================] - 19s 41ms/step - loss: 0.0187 - accuracy: 0.9939 - val_loss: 0.0351 - val_accuracy: 0.9888\n",
            "Epoch 12/20\n",
            "469/469 [==============================] - 21s 44ms/step - loss: 0.0170 - accuracy: 0.9944 - val_loss: 0.0329 - val_accuracy: 0.9897\n",
            "Epoch 13/20\n",
            "469/469 [==============================] - 19s 41ms/step - loss: 0.0154 - accuracy: 0.9950 - val_loss: 0.0374 - val_accuracy: 0.9884\n",
            "Epoch 14/20\n",
            "469/469 [==============================] - 21s 44ms/step - loss: 0.0130 - accuracy: 0.9954 - val_loss: 0.0375 - val_accuracy: 0.9894\n",
            "Epoch 15/20\n",
            "469/469 [==============================] - 19s 41ms/step - loss: 0.0123 - accuracy: 0.9960 - val_loss: 0.0320 - val_accuracy: 0.9906\n",
            "Epoch 16/20\n",
            "469/469 [==============================] - 21s 44ms/step - loss: 0.0102 - accuracy: 0.9966 - val_loss: 0.0392 - val_accuracy: 0.9888\n",
            "Epoch 17/20\n",
            "469/469 [==============================] - 19s 41ms/step - loss: 0.0127 - accuracy: 0.9956 - val_loss: 0.0393 - val_accuracy: 0.9895\n",
            "Epoch 18/20\n",
            "469/469 [==============================] - 21s 44ms/step - loss: 0.0105 - accuracy: 0.9962 - val_loss: 0.0415 - val_accuracy: 0.9903\n",
            "Epoch 19/20\n",
            "469/469 [==============================] - 20s 42ms/step - loss: 0.0079 - accuracy: 0.9975 - val_loss: 0.0477 - val_accuracy: 0.9884\n",
            "Epoch 20/20\n",
            "469/469 [==============================] - 21s 45ms/step - loss: 0.0082 - accuracy: 0.9969 - val_loss: 0.0420 - val_accuracy: 0.9895\n"
          ]
        },
        {
          "output_type": "execute_result",
          "data": {
            "text/plain": [
              "<keras.src.callbacks.History at 0x7fc43184c910>"
            ]
          },
          "metadata": {},
          "execution_count": 17
        }
      ]
    },
    {
      "cell_type": "code",
      "source": [],
      "metadata": {
        "id": "__P9pFY2rJ06"
      },
      "execution_count": null,
      "outputs": []
    }
  ]
}